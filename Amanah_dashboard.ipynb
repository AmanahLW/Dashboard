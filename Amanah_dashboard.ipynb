{
 "cells": [
  {
   "cell_type": "code",
   "execution_count": 138,
   "id": "6c4fba49-0b77-4bcc-8cb8-444124f352fc",
   "metadata": {},
   "outputs": [],
   "source": [
    "from IPython.display import clear_output\n",
    "import ipywidgets as wdg\n",
    "import pandas as pd\n",
    "import numpy as np\n",
    "import matplotlib.pyplot as plt\n",
    "import json\n",
    "from uk_covid19 import Cov19API"
   ]
  },
  {
   "cell_type": "code",
   "execution_count": 139,
   "id": "eb3442c4-7a0c-46e3-b2d4-83a289fd3163",
   "metadata": {
    "tags": []
   },
   "outputs": [],
   "source": [
    "# Loading data"
   ]
  },
  {
   "cell_type": "code",
   "execution_count": 140,
   "id": "806dfd73-a6a0-418a-a749-fbcb6ce7d12c",
   "metadata": {
    "tags": []
   },
   "outputs": [],
   "source": [
    "with open('admission_vs_ventilation.json' , 'rt') as INFILE:\n",
    "    jsondata =  json.load(INFILE)\n"
   ]
  },
  {
   "cell_type": "code",
   "execution_count": 141,
   "id": "669cb6a9-0220-4cf5-aac3-2e2d76ff527f",
   "metadata": {},
   "outputs": [],
   "source": [
    "# wrangling data to form dataframe"
   ]
  },
  {
   "cell_type": "code",
   "execution_count": 142,
   "id": "b57aff1c-a39b-4d49-9b8e-f457fe9be8e0",
   "metadata": {
    "tags": []
   },
   "outputs": [
    {
     "data": {
      "text/html": [
       "<div>\n",
       "<style scoped>\n",
       "    .dataframe tbody tr th:only-of-type {\n",
       "        vertical-align: middle;\n",
       "    }\n",
       "\n",
       "    .dataframe tbody tr th {\n",
       "        vertical-align: top;\n",
       "    }\n",
       "\n",
       "    .dataframe thead th {\n",
       "        text-align: right;\n",
       "    }\n",
       "</style>\n",
       "<table border=\"1\" class=\"dataframe\">\n",
       "  <thead>\n",
       "    <tr style=\"text-align: right;\">\n",
       "      <th></th>\n",
       "      <th>Ventilation</th>\n",
       "      <th>Hospital</th>\n",
       "    </tr>\n",
       "  </thead>\n",
       "  <tbody>\n",
       "    <tr>\n",
       "      <th>2020-03-23</th>\n",
       "      <td>0.0</td>\n",
       "      <td>4880.0</td>\n",
       "    </tr>\n",
       "    <tr>\n",
       "      <th>2020-03-24</th>\n",
       "      <td>0.0</td>\n",
       "      <td>6598.0</td>\n",
       "    </tr>\n",
       "    <tr>\n",
       "      <th>2020-03-25</th>\n",
       "      <td>0.0</td>\n",
       "      <td>8683.0</td>\n",
       "    </tr>\n",
       "    <tr>\n",
       "      <th>2020-03-26</th>\n",
       "      <td>0.0</td>\n",
       "      <td>10612.0</td>\n",
       "    </tr>\n",
       "    <tr>\n",
       "      <th>2020-03-27</th>\n",
       "      <td>0.0</td>\n",
       "      <td>12841.0</td>\n",
       "    </tr>\n",
       "    <tr>\n",
       "      <th>...</th>\n",
       "      <td>...</td>\n",
       "      <td>...</td>\n",
       "    </tr>\n",
       "    <tr>\n",
       "      <th>2021-10-22</th>\n",
       "      <td>889.0</td>\n",
       "      <td>568261.0</td>\n",
       "    </tr>\n",
       "    <tr>\n",
       "      <th>2021-10-23</th>\n",
       "      <td>869.0</td>\n",
       "      <td>569155.0</td>\n",
       "    </tr>\n",
       "    <tr>\n",
       "      <th>2021-10-24</th>\n",
       "      <td>885.0</td>\n",
       "      <td>0.0</td>\n",
       "    </tr>\n",
       "    <tr>\n",
       "      <th>2021-10-25</th>\n",
       "      <td>913.0</td>\n",
       "      <td>0.0</td>\n",
       "    </tr>\n",
       "    <tr>\n",
       "      <th>2021-10-26</th>\n",
       "      <td>950.0</td>\n",
       "      <td>0.0</td>\n",
       "    </tr>\n",
       "  </tbody>\n",
       "</table>\n",
       "<p>583 rows × 2 columns</p>\n",
       "</div>"
      ],
      "text/plain": [
       "            Ventilation  Hospital\n",
       "2020-03-23          0.0    4880.0\n",
       "2020-03-24          0.0    6598.0\n",
       "2020-03-25          0.0    8683.0\n",
       "2020-03-26          0.0   10612.0\n",
       "2020-03-27          0.0   12841.0\n",
       "...                 ...       ...\n",
       "2021-10-22        889.0  568261.0\n",
       "2021-10-23        869.0  569155.0\n",
       "2021-10-24        885.0       0.0\n",
       "2021-10-25        913.0       0.0\n",
       "2021-10-26        950.0       0.0\n",
       "\n",
       "[583 rows x 2 columns]"
      ]
     },
     "execution_count": 142,
     "metadata": {},
     "output_type": "execute_result"
    }
   ],
   "source": [
    "%matplotlib inline\n",
    "plt.rcParams['figure.dpi'] = 100\n",
    "\n",
    "def parse_date(datestring):\n",
    "    '''Convert a date string into a pandas datetime object '''\n",
    "    return pd.to_datetime(datestring, format=\"%Y-%m-%d\")\n",
    "\n",
    "def wrangle_data(rawdata):\n",
    "    mydatalist =rawdata['data'] \n",
    "    dates=[dictionary['date'] for dictionary in mydatalist] \n",
    "    dates.sort()#ordered\n",
    "    startdate=parse_date(dates[0])\n",
    "    enddate=parse_date(dates[-1])\n",
    "    index = pd.date_range(startdate, enddate, freq='D')\n",
    "    admission_vs_ventilationdf = pd.DataFrame(index=index, columns=['Ventilation','Hospital'])\n",
    "    for entry in mydatalist:\n",
    "        date=parse_date(entry['date'])\n",
    "        for column in ['Ventilation' , 'Hospital']: \n",
    "            if pd.isna(admission_vs_ventilationdf.loc[date,column]):\n",
    "                value=float(entry[column]) if entry[column]!= None else 0.0\n",
    "                admission_vs_ventilationdf.loc[date, column] = value\n",
    "    admission_vs_ventilationdf.fillna(0.0, inplace=True)\n",
    "    return admission_vs_ventilationdf\n",
    "\n",
    "df = pd.DataFrame(wrangle_data(jsondata))\n",
    "df"
   ]
  },
  {
   "cell_type": "code",
   "execution_count": 143,
   "id": "ed04c2f4-672a-459d-a574-39244f377894",
   "metadata": {},
   "outputs": [],
   "source": [
    "def access_api():\n",
    "    \"\"\" Accesses the PHE API. Returns raw data in the same format as data loaded from the \"canned\" JSON file. \"\"\"\n",
    "    return {} # return data read from the API\n"
   ]
  },
  {
   "cell_type": "code",
   "execution_count": 144,
   "id": "feffd681-3234-4546-b00d-3ab5e82b892a",
   "metadata": {},
   "outputs": [
    {
     "data": {
      "application/vnd.jupyter.widget-view+json": {
       "model_id": "36fe8c6eb0644d1ebb8eb1fe8cc7e913",
       "version_major": 2,
       "version_minor": 0
      },
      "text/plain": [
       "Button(button_style='danger', description='PANIC', icon='exclamation-triangle', style=ButtonStyle(), tooltip='…"
      ]
     },
     "metadata": {},
     "output_type": "display_data"
    }
   ],
   "source": [
    "def api_button_callback(button):\n",
    "    \"\"\" Button callback - it must take the button as its parameter (unused in this case).\n",
    "    Accesses API, wrangles data, updates global variable df used for plotting. \"\"\"\n",
    "    # Get fresh data from the API. If you have time, include some error handling\n",
    "    # around this call.\n",
    "    apidata=access_api()\n",
    "    # wrangle the data and overwrite the dataframe for plotting\n",
    "    global df\n",
    "    df=wrangle_data(apidata)\n",
    "    # the graph won't refresh until the user interacts with the widget.\n",
    "    # this function simulates the interaction, see Graph and Analysis below.\n",
    "    # you can omit this step in the first instance\n",
    "    refresh_graph()\n",
    "    # after all is done, you can switch the icon on the button to a \"check\" sign\n",
    "    # and optionally disable the button - it won't be needed again. You can use icons\n",
    "    # \"unlink\" or \"times\" and change the button text to \"Unavailable\" in case the \n",
    "    # api call fails.\n",
    "    apibutton.icon=\"check\"\n",
    "    # apibutton.disabled=True\n",
    "\n",
    "    \n",
    "apibutton=wdg.Button(\n",
    "    description='PANIC', # you may want to change this...\n",
    "    disabled=False,\n",
    "    button_style='danger', # 'success', 'info', 'warning', 'danger' or ''\n",
    "    tooltip=\"Keep calm and carry on\",\n",
    "    # FontAwesome names without the `fa-` prefix - try \"download\"\n",
    "    icon='exclamation-triangle'\n",
    ")\n",
    "\n",
    "# remember to register your button callback function with the button\n",
    "apibutton.on_click(api_button_callback) # the name of your function inside these brackets\n",
    "\n",
    "display(apibutton)\n",
    "\n",
    "# run all cells before clicking on this button"
   ]
  },
  {
   "cell_type": "code",
   "execution_count": 156,
   "id": "063b8350-2c25-4449-a443-48c23db71262",
   "metadata": {},
   "outputs": [
    {
     "data": {
      "application/vnd.jupyter.widget-view+json": {
       "model_id": "c494db447f564ac28c955b0970b8d5ea",
       "version_major": 2,
       "version_minor": 0
      },
      "text/plain": [
       "Dropdown(description='Walk no: ', options=('Ventilation', 'Hospital'), value='Ventilation')"
      ]
     },
     "metadata": {},
     "output_type": "display_data"
    },
    {
     "data": {
      "application/vnd.jupyter.widget-view+json": {
       "model_id": "b5fb39b45cad4d3f946a1372702b3bf4",
       "version_major": 2,
       "version_minor": 0
      },
      "text/plain": [
       "Output()"
      ]
     },
     "metadata": {},
     "output_type": "display_data"
    }
   ],
   "source": [
    "def timeseries_graph(walk):\n",
    "    df[walk].plot()\n",
    "    plt.show() # important! update won't work properly without this\n",
    "    \n",
    "whichwalk=wdg.Dropdown(\n",
    "    options=['Ventilation', 'Hospital'],\n",
    "    value='Ventilation',\n",
    "    description='Walk no: ',\n",
    "    disabled=False\n",
    ")\n",
    "\n",
    "def refresh_graph():\n",
    "    \"\"\" We change the value of the widget in order to force a redraw of the graph;\n",
    "    this is useful when the data have been updated. This is a bit of a gimmick; it\n",
    "    needs to be customised for one of your widgets. \"\"\"\n",
    "    current=whichwalk.value\n",
    "    if current==whichwalk.options[0]:\n",
    "        other=whichwalk.options[1]\n",
    "    else:\n",
    "        other=whichwalk.options[0]\n",
    "    whichwalk.value=other # forces the redraw\n",
    "    whichwalk.value=current # now we can change it back\n",
    "    \n",
    "    \n",
    "graph=wdg.interactive_output(timeseries_graph, {'walk': whichwalk})\n",
    "    \n",
    "display(whichwalk, graph)"
   ]
  },
  {
   "cell_type": "code",
   "execution_count": null,
   "id": "073934f8-fb7c-43ee-a324-02f00aeb41f7",
   "metadata": {},
   "outputs": [],
   "source": []
  }
 ],
 "metadata": {
  "kernelspec": {
   "display_name": "Python 3 (ipykernel)",
   "language": "python",
   "name": "python3"
  },
  "language_info": {
   "codemirror_mode": {
    "name": "ipython",
    "version": 3
   },
   "file_extension": ".py",
   "mimetype": "text/x-python",
   "name": "python",
   "nbconvert_exporter": "python",
   "pygments_lexer": "ipython3",
   "version": "3.9.6"
  }
 },
 "nbformat": 4,
 "nbformat_minor": 5
}
